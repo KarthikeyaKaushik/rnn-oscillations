{
 "cells": [
  {
   "cell_type": "markdown",
   "metadata": {},
   "source": [
    "# The Frank and Yang model\n",
    "\n",
    "The goal here is to see what the model parameters represent and what the exact function of the error (empty) vectors are\n",
    "\n",
    "## Parameters - \n",
    "\n",
    "The English stimuli consisted of 60, four word sentences presented at the rate of 4 words/second (changed in FY model to 4/s). To correspond to the 200 Hz low-pass filter frequency, every 250 ms is discretized to 5ms intervals, and at each interval, the model represents the word as an N(=300 in Google word2vec) dimensional vector. \n",
    "\n",
    "At each point in time, every element is represented either as a noise (mu=0,std=0.5, if t < tau), or as noise superimposed on the original vector (if t >= tau), where is tau chosen (uniform distribution, mu 40, beta=50) beforehand for each word. To account for the fact that we use a different set of word representations, we assume error to be a zero value instead of the random number obtained from the distribution described above.\n",
    "\n",
    "And so 50 of these vectors are concatenated to get a 300x50 matrix. "
   ]
  },
  {
   "cell_type": "code",
   "execution_count": 1,
   "metadata": {},
   "outputs": [],
   "source": [
    "import os\n",
    "import numpy as np\n",
    "from random import shuffle\n",
    "import csv\n",
    "import pickle\n",
    "#from dictionaries import d_words_g\n",
    "import matplotlib.pyplot as plt\n",
    "from matplotlib.ticker import MultipleLocator\n",
    "import random\n",
    "from pathlib import Path\n",
    "import pdb\n",
    "import gensim\n",
    "import json"
   ]
  },
  {
   "cell_type": "code",
   "execution_count": 2,
   "metadata": {},
   "outputs": [],
   "source": [
    "# Load the Ding grammatical stimuli\n",
    "with open(str(Path(os.getcwd()).parent) + '\\\\Data\\\\Ding_grammatical.csv', 'r') as f:\n",
    "    sentence_list = [row for row in csv.reader(f)]\n",
    "# Load the google vectors of these word stimuli - \n",
    "new_dict = np.load(str(Path(os.getcwd()).parent) + '\\\\Data\\\\dic_word2vec_ding_new.npy',allow_pickle=True)\n",
    "new_dict.item()['NONE'] = np.eye(new_dict.item()['cute'].shape[0])[0]\n",
    "new_dict.item()['END'] = np.eye(new_dict.item()['cute'].shape[0])[1]"
   ]
  },
  {
   "cell_type": "code",
   "execution_count": 196,
   "metadata": {},
   "outputs": [],
   "source": [
    "# For every word vector, get a N dimensional tau values. That is, if a wordvec = 300x1, every one of these dimensions must have\n",
    "# a tau value, and for every word this tau vector must be unique.\n",
    "tau_dict = {}\n",
    "dim_size = new_dict.item()['NONE'].shape[0]\n",
    "for sent in sentence_list:\n",
    "    for w in sent:\n",
    "        tau_vector = np.round(np.random.uniform(low=15,high=65,size=(dim_size,)))\n",
    "        #tau_vector = np.round(np.random.uniform(low=190,high=210,size=(dim_size,)))\n",
    "        #tau_vector = np.zeros((dim_size,))\n",
    "        #tau_vector[:] = 240\n",
    "        tau_dict[w] = tau_vector"
   ]
  },
  {
   "cell_type": "code",
   "execution_count": null,
   "metadata": {},
   "outputs": [],
   "source": []
  },
  {
   "cell_type": "code",
   "execution_count": 193,
   "metadata": {},
   "outputs": [
    {
     "name": "stdout",
     "output_type": "stream",
     "text": [
      "-0.002158484151698677 0.1803537841307054\n"
     ]
    }
   ],
   "source": [
    "from scipy.stats import norm\n",
    "temp = np.unique(all_sent_matrices)\n",
    "mu, std = norm.fit(temp)\n",
    "print(mu,std)\n",
    "random_vectors = {}\n",
    "for sent in sentence_list:\n",
    "    for w in sent:\n",
    "        random_vectors[w] = np.random.normal(loc=mu,scale=std,size=(dim_size,))"
   ]
  },
  {
   "cell_type": "code",
   "execution_count": 197,
   "metadata": {},
   "outputs": [],
   "source": [
    "# for every sentence in the stimuli, expand to 50 intervals, and do what is described above\n",
    "# all_sent_matrices finally contains the concatenated matrix\n",
    "all_sent_matrices = []\n",
    "for sent in sentence_list:\n",
    "    sentence_matrix = np.zeros((dim_size,200))\n",
    "    for ind,w in enumerate(sent):\n",
    "        word_matrix = np.zeros((dim_size,50))\n",
    "        for i in range(50):\n",
    "            v_array = np.zeros((dim_size,))\n",
    "            v_array.fill(i*5)\n",
    "            v_mask = (v_array > tau_dict[w]) * 1.0\n",
    "            word_matrix[:,i] = new_dict.item()[w] * v_mask\n",
    "            #word_matrix[:,i] = random_vectors[w] * v_mask\n",
    "        sentence_matrix[:,ind*50:ind*50 + 50] = word_matrix\n",
    "    all_sent_matrices.append(sentence_matrix)\n",
    "all_sent_matrices = np.transpose(np.concatenate(all_sent_matrices,axis=1))"
   ]
  },
  {
   "cell_type": "code",
   "execution_count": null,
   "metadata": {},
   "outputs": [],
   "source": []
  },
  {
   "cell_type": "code",
   "execution_count": 188,
   "metadata": {},
   "outputs": [],
   "source": [
    "# power spectra function\n",
    "def power_spectra(w2vec_array, sampling_rate=200):\n",
    "    \"\"\"Computes power spectra using the Discrete Fourier Transform.\n",
    "\n",
    "    Args:\n",
    "        w2vec_array: arrays of shape (n_sentences*time_steps, n_units)\n",
    "            representing hidden layer activations in response to each word of the\n",
    "            concatenated sequence of sentences.\n",
    "        sample_rate: number of measures (outputs of the model) per second.\n",
    "\n",
    "    Returns:\n",
    "        Mean power spectra and frequency axis.\n",
    "    \"\"\"\n",
    "    #pdb.set_trace()\n",
    "    # Separate each unit and concatenate across words to form 1 vector per unit\n",
    "    unit_vectors = np.transpose(w2vec_array)\n",
    "\n",
    "    # Frequency domain\n",
    "    # num_samples is just the number of data points for each unit\n",
    "    num_samples = unit_vectors.shape[1]\n",
    "    freq = np.fft.rfftfreq(num_samples, d=1./sampling_rate)\n",
    "    print ('freq ' ,freq.shape)\n",
    "    # Calculate the FFT and power spectra for each unit\n",
    "    units_ps = []\n",
    "    for vector in unit_vectors:\n",
    "        ft_unit = np.fft.rfft(vector)  # fft\n",
    "        ps_uni = np.abs(ft_unit) ** 2  # power spectrum\n",
    "        units_ps.append(ps_uni)\n",
    "\n",
    "    # Average power spectra over units\n",
    "    units_ps = np.array(units_ps)\n",
    "    mean_ps = np.mean(units_ps, axis=0)\n",
    "    print ('mean_ps',mean_ps.shape)\n",
    "    return freq, mean_ps, units_ps"
   ]
  },
  {
   "cell_type": "code",
   "execution_count": 189,
   "metadata": {},
   "outputs": [],
   "source": [
    "def plot_results(plot_path, freq, power,sampling_rate=200,n_samples=60,title='Input stimuli',smoothed=True):\n",
    "    \"\"\"Plot all the results of one condition\"\"\"\n",
    "    plt.rcParams['pdf.fonttype'] = 42 # for the eps files\n",
    "    plt.rcParams['ps.fonttype'] = 42\n",
    "\n",
    "    # Time domain parameters\n",
    "    sampling_interval = 1.0/sampling_rate  # sampling interval\n",
    "    # Build plot\n",
    "    plt.title(title)\n",
    "    hz_10 = np.where(freq == 10)[0][0]\n",
    "    print(hz_10)\n",
    "    plt.plot(freq[1:hz_10], power[1:hz_10], 'r', linewidth=1.0)\n",
    "    plt.xlabel('Freq (Hz)')\n",
    "    plt.ylabel('Power (db)')\n",
    "    # Adjusts subplot\n",
    "    #plt.tight_layout(rect=[0, 0.03, 1, 0.95])\n",
    "    # Save\n",
    "    #fig.savefig(plot_path+'.pdf')\n"
   ]
  },
  {
   "cell_type": "code",
   "execution_count": 198,
   "metadata": {},
   "outputs": [
    {
     "name": "stdout",
     "output_type": "stream",
     "text": [
      "freq  (6001,)\n",
      "mean_ps (6001,)\n",
      "600\n"
     ]
    },
    {
     "data": {
      "image/png": "[encoded data removed]",
      "text/plain": [
       "<Figure size 432x288 with 1 Axes>"
      ]
     },
     "metadata": {
      "needs_background": "light"
     },
     "output_type": "display_data"
    }
   ],
   "source": [
    "freq,mean_ps,units_ps = power_spectra(all_sent_matrices)\n",
    "plot_results(plot_path=None,freq=freq,power=mean_ps)"
   ]
  },
  {
   "cell_type": "markdown",
   "metadata": {},
   "source": [
    "## Observations : \n",
    "\n",
    "1. The google word2vec shows a similar 1-2-4 pattern as in the FY model, and their parameter choice is explained in S4 of the PloS one paper - https://journals.plos.org/plosone/article?id=10.1371/journal.pone.0197304#pone.0197304.s007\n",
    "2. As control, with a random vector (taken from the same distribution as the google word2vec) did not show 1-2-4, but a 4Hz peak is visible when tau is increased to > 220\n",
    "3. Does lexical representation of the concatenation kind \"explain\" the 1-2-4? Processing these lexical representations is the subject of inquiry in the RNN notebook. "
   ]
  },
  {
   "cell_type": "code",
   "execution_count": null,
   "metadata": {},
   "outputs": [],
   "source": []
  }
 ],
 "metadata": {
  "kernelspec": {
   "display_name": "Python 3",
   "language": "python",
   "name": "python3"
  },
  "language_info": {
   "codemirror_mode": {
    "name": "ipython",
    "version": 3
   },
   "file_extension": ".py",
   "mimetype": "text/x-python",
   "name": "python",
   "nbconvert_exporter": "python",
   "pygments_lexer": "ipython3",
   "version": "3.7.7"
  }
 },
 "nbformat": 4,
 "nbformat_minor": 4
}
